{
 "cells": [
  {
   "cell_type": "markdown",
   "id": "96b489b8",
   "metadata": {},
   "source": [
    "## Problem 1\n"
   ]
  },
  {
   "cell_type": "code",
   "execution_count": 2,
   "id": "c8ba9e73",
   "metadata": {},
   "outputs": [
    {
     "name": "stdout",
     "output_type": "stream",
     "text": [
      "Original Array:\n",
      " [[39 50 43 31]\n",
      " [27 30  2 41]\n",
      " [19 31 25 45]\n",
      " [19 23 21 11]\n",
      " [29  3 28 16]]\n",
      "Anti-diagonal (top-right to bottom-left): [31, 2, 31, 19]\n",
      "Maximum in each row: [50 41 45 23 29]\n",
      "Array Mean: 26.65\n",
      "Elements less than or equal to mean: [ 2 19 25 19 23 21 11  3 16]\n",
      "Boundary traversal (clockwise from top-left): [39, 50, 43, 31, 41, 45, 11, 16, 28, 3, 29, 19, 19, 27]\n"
     ]
    }
   ],
   "source": [
    "import numpy as np\n",
    "\n",
    "arr = np.random.randint(1, 51, (5, 4))\n",
    "print(\"Original Array:\\n\", arr)\n",
    "\n",
    "anti_diag = [arr[i, -i-1] for i in range(min(arr.shape))]\n",
    "print(\"Anti-diagonal (top-right to bottom-left):\", anti_diag)\n",
    "\n",
    "row_max = np.max(arr, axis=1)\n",
    "print(\"Maximum in each row:\", row_max)\n",
    "\n",
    "mean_val = np.mean(arr)\n",
    "filtered = arr[arr <= mean_val]\n",
    "print(\"Array Mean:\", mean_val)\n",
    "print(\"Elements less than or equal to mean:\", filtered)\n",
    "\n",
    "def numpy_boundary_traversal(matrix):\n",
    "    top = list(matrix[0])\n",
    "    right = [matrix[i][-1] for i in range(1, matrix.shape[0]-1)]\n",
    "    bottom = list(matrix[-1][::-1])\n",
    "    left = [matrix[i][0] for i in range(matrix.shape[0]-2, 0, -1)]\n",
    "    return top + right + bottom + left\n",
    "\n",
    "print(\"Boundary traversal (clockwise from top-left):\", numpy_boundary_traversal(arr))\n"
   ]
  },
  {
   "cell_type": "markdown",
   "id": "7c59cd44",
   "metadata": {},
   "source": [
    "## Problem 2\n"
   ]
  },
  {
   "cell_type": "code",
   "execution_count": 3,
   "id": "6f235d0a",
   "metadata": {},
   "outputs": [
    {
     "name": "stdout",
     "output_type": "stream",
     "text": [
      "Original Array (rounded to 2 decimals): [6.81 8.41 5.1  7.13 5.22 2.83 9.35 8.44 6.99 3.07 9.51 9.7  2.66 1.58\n",
      " 7.74 9.69 6.76 2.25 9.28 5.52]\n",
      "Minimum value: 1.58\n",
      "Maximum value: 9.7\n",
      "Median value: 6.9\n",
      "Array after squaring elements less than 5: [6.81   8.41   5.1    7.13   5.22   8.0089 9.35   8.44   6.99   9.4249\n",
      " 9.51   9.7    7.0756 2.4964 7.74   9.69   6.76   5.0625 9.28   5.52  ]\n",
      "Array sorted in alternating min-max order: [2.4964 9.7    5.0625 9.69   5.1    9.51   5.22   9.4249 5.52   9.35\n",
      " 6.76   9.28   6.81   8.44   6.99   8.41   7.0756 8.0089 7.13   7.74  ]\n"
     ]
    }
   ],
   "source": [
    "arr = np.round(np.random.uniform(0, 10, 20), 2)\n",
    "print(\"Original Array (rounded to 2 decimals):\", arr)\n",
    "\n",
    "print(\"Minimum value:\", np.min(arr))\n",
    "print(\"Maximum value:\", np.max(arr))\n",
    "print(\"Median value:\", np.median(arr))\n",
    "\n",
    "arr[arr < 5] = arr[arr < 5] ** 2\n",
    "print(\"Array after squaring elements less than 5:\", arr)\n",
    "\n",
    "def numpy_alternate_sort(array):\n",
    "    array = np.sort(array)\n",
    "    result = []\n",
    "    i, j = 0, len(array) - 1\n",
    "    while i <= j:\n",
    "        result.append(array[i])\n",
    "        if i != j:\n",
    "            result.append(array[j])\n",
    "        i += 1\n",
    "        j -= 1\n",
    "    return np.array(result)\n",
    "\n",
    "print(\"Array sorted in alternating min-max order:\", numpy_alternate_sort(arr))\n"
   ]
  },
  {
   "cell_type": "markdown",
   "id": "402d37d8",
   "metadata": {},
   "source": [
    "## Problem3"
   ]
  },
  {
   "cell_type": "code",
   "execution_count": 4,
   "id": "15eb5b8c",
   "metadata": {},
   "outputs": [
    {
     "name": "stdout",
     "output_type": "stream",
     "text": [
      "Student DataFrame with Grades:\n",
      "        Name  Subject  Score Grade\n",
      "0  Student0     Math     87     B\n",
      "1  Student1  Physics     63     D\n",
      "2  Student2     Chem     69     D\n",
      "3  Student3      Bio     95     A\n",
      "4  Student4       CS     91     A\n",
      "5  Student5     Math     58     F\n",
      "6  Student6  Physics     67     D\n",
      "7  Student7     Chem     69     D\n",
      "8  Student8      Bio    100     A\n",
      "9  Student9       CS     78     C\n",
      "Sorted by Score (Descending):\n",
      "        Name  Subject  Score Grade\n",
      "8  Student8      Bio    100     A\n",
      "3  Student3      Bio     95     A\n",
      "4  Student4       CS     91     A\n",
      "0  Student0     Math     87     B\n",
      "9  Student9       CS     78     C\n",
      "2  Student2     Chem     69     D\n",
      "7  Student7     Chem     69     D\n",
      "6  Student6  Physics     67     D\n",
      "1  Student1  Physics     63     D\n",
      "5  Student5     Math     58     F\n",
      "Average score per subject:\n",
      " Subject\n",
      "Bio        97.5\n",
      "CS         84.5\n",
      "Chem       69.0\n",
      "Math       72.5\n",
      "Physics    65.0\n",
      "Name: Score, dtype: float64\n",
      "Students with Grade A or B:\n",
      "        Name Subject  Score Grade\n",
      "0  Student0    Math     87     B\n",
      "3  Student3     Bio     95     A\n",
      "4  Student4      CS     91     A\n",
      "8  Student8     Bio    100     A\n"
     ]
    }
   ],
   "source": [
    "import pandas as pd\n",
    "\n",
    "names = [f\"Student{i}\" for i in range(10)]\n",
    "subjects = [\"Math\", \"Physics\", \"Chem\", \"Bio\", \"CS\"] * 2\n",
    "scores = np.random.randint(50, 101, 10)\n",
    "\n",
    "df = pd.DataFrame({'Name': names, 'Subject': subjects, 'Score': scores, 'Grade': ''})\n",
    "df['Grade'] = pd.cut(df['Score'], bins=[0, 59, 69, 79, 89, 100], labels=['F', 'D', 'C', 'B', 'A'])\n",
    "\n",
    "print(\"Student DataFrame with Grades:\\n\", df)\n",
    "\n",
    "print(\"Sorted by Score (Descending):\\n\", df.sort_values(by='Score', ascending=False))\n",
    "\n",
    "print(\"Average score per subject:\\n\", df.groupby('Subject')['Score'].mean())\n",
    "\n",
    "def pandas_filter_pass(dataframe):\n",
    "    return dataframe[dataframe['Grade'].isin(['A', 'B'])]\n",
    "\n",
    "print(\"Students with Grade A or B:\\n\", pandas_filter_pass(df))\n"
   ]
  },
  {
   "cell_type": "markdown",
   "id": "97775b78",
   "metadata": {},
   "source": [
    "## Problem4"
   ]
  },
  {
   "cell_type": "code",
   "execution_count": 10,
   "id": "61e98683",
   "metadata": {},
   "outputs": [
    {
     "name": "stdout",
     "output_type": "stream",
     "text": [
      "Naive Bayes Test Accuracy: 1.0\n",
      "Prediction for 'Amazing movie': negative\n"
     ]
    }
   ],
   "source": [
    "from sklearn.feature_extraction.text import CountVectorizer\n",
    "from sklearn.model_selection import train_test_split\n",
    "from sklearn.naive_bayes import MultinomialNB\n",
    "from sklearn.metrics import accuracy_score\n",
    "\n",
    "reviews = [\"Good movie\"] * 50 + [\"Bad movie\"] * 50\n",
    "sentiments = [\"positive\"] * 50 + [\"negative\"] * 50\n",
    "df = pd.DataFrame({'Review': reviews, 'Sentiment': sentiments})\n",
    "\n",
    "vectorizer = CountVectorizer(max_features=500, stop_words='english')\n",
    "X = vectorizer.fit_transform(df['Review'])\n",
    "y = df['Sentiment']\n",
    "\n",
    "X_train, X_test, y_train, y_test = train_test_split(X, y, test_size=0.2)\n",
    "model = MultinomialNB()\n",
    "model.fit(X_train, y_train)\n",
    "\n",
    "pred = model.predict(X_test)\n",
    "print(\"Naive Bayes Test Accuracy:\", accuracy_score(y_test, pred))\n",
    "\n",
    "def predict_review_sentiment(model, vectorizer, review):\n",
    "    vec = vectorizer.transform([review])\n",
    "    return model.predict(vec)[0]\n",
    "\n",
    "print(\"Prediction for 'Amazing movie':\", predict_review_sentiment(model, vectorizer, \"Amazing movie\"))\n"
   ]
  },
  {
   "cell_type": "markdown",
   "id": "439460b0",
   "metadata": {},
   "source": [
    "## Problem5"
   ]
  },
  {
   "cell_type": "code",
   "execution_count": 16,
   "id": "e4afe191",
   "metadata": {},
   "outputs": [
    {
     "name": "stdout",
     "output_type": "stream",
     "text": [
      "Precision (for class 'good'): 1.0\n",
      "Recall (for class 'good'): 1.0\n",
      "F1-score (for class 'good'): 1.0\n",
      "Vectorized 'Bad quality' review: [[1. 0. 0. 0.]]\n"
     ]
    }
   ],
   "source": [
    "from sklearn.feature_extraction.text import TfidfVectorizer\n",
    "from sklearn.linear_model import LogisticRegression\n",
    "from sklearn.metrics import precision_score, recall_score, f1_score\n",
    "\n",
    "feedback = [\"Nice product\"] * 50 + [\"Bad service\"] * 50\n",
    "labels = [\"good\"] * 50 + [\"bad\"] * 50\n",
    "df = pd.DataFrame({'Text': feedback, 'Label': labels})\n",
    "\n",
    "vectorizer = TfidfVectorizer(max_features=300, lowercase=True, stop_words='english')\n",
    "X = vectorizer.fit_transform(df['Text'])\n",
    "y = df['Label']\n",
    "\n",
    "X_train, X_test, y_train, y_test = train_test_split(X, y, test_size=0.25)\n",
    "model = LogisticRegression()\n",
    "model.fit(X_train, y_train)\n",
    "\n",
    "pred = model.predict(X_test)\n",
    "print(\"Precision (for class 'good'):\", precision_score(y_test, pred, pos_label='good'))\n",
    "print(\"Recall (for class 'good'):\", recall_score(y_test, pred, pos_label='good'))\n",
    "print(\"F1-score (for class 'good'):\", f1_score(y_test, pred, pos_label='good'))\n",
    "\n",
    "def text_preprocess_vectorize(texts, vectorizer):\n",
    "    return vectorizer.transform(texts)\n",
    "\n",
    "print(\"Vectorized 'Bad quality' review:\", text_preprocess_vectorize([\"Bad quality\"], vectorizer).toarray())\n"
   ]
  },
  {
   "cell_type": "code",
   "execution_count": null,
   "id": "32f1fcea",
   "metadata": {},
   "outputs": [],
   "source": []
  }
 ],
 "metadata": {
  "kernelspec": {
   "display_name": "base",
   "language": "python",
   "name": "python3"
  },
  "language_info": {
   "codemirror_mode": {
    "name": "ipython",
    "version": 3
   },
   "file_extension": ".py",
   "mimetype": "text/x-python",
   "name": "python",
   "nbconvert_exporter": "python",
   "pygments_lexer": "ipython3",
   "version": "3.11.5"
  }
 },
 "nbformat": 4,
 "nbformat_minor": 5
}
